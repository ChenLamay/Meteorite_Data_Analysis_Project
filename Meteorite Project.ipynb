{
 "cells": [
  {
   "cell_type": "code",
   "execution_count": null,
   "id": "82f652c5",
   "metadata": {},
   "outputs": [],
   "source": [
    "#pip install geopandas\n",
    "#pip install cartopy\n",
    "#pip install geopy\n",
    "#!pip install pyhigh\n",
    "#!pip install netCDF4\n"
   ]
  },
  {
   "cell_type": "code",
   "execution_count": null,
   "id": "e1c11bec",
   "metadata": {},
   "outputs": [],
   "source": [
    "import pandas as pd\n",
    "import numpy as np\n",
    "import seaborn as sns\n",
    "import matplotlib.pyplot as plt\n",
    "import geopandas as gpd\n",
    "from shapely.geometry import Point\n",
    "import cartopy.crs as ccrs\n",
    "from geopy.geocoders import Nominatim\n",
    "import geopandas as gpd\n"
   ]
  },
  {
   "cell_type": "code",
   "execution_count": null,
   "id": "81a04e86",
   "metadata": {},
   "outputs": [],
   "source": [
    "pd.read_csv(\"Meteorite_DATA.csv\")"
   ]
  },
  {
   "cell_type": "code",
   "execution_count": null,
   "id": "5340c3c2",
   "metadata": {},
   "outputs": [],
   "source": [
    "df = pd.read_csv(\"Meteorite_DATA.csv\")\n",
    "df.info()"
   ]
  },
  {
   "cell_type": "code",
   "execution_count": null,
   "id": "bd37cee0",
   "metadata": {},
   "outputs": [],
   "source": [
    "mapper = {\"mass (g)\":\"mass\"}\n",
    "df.rename(columns=mapper, inplace=True)"
   ]
  },
  {
   "cell_type": "code",
   "execution_count": null,
   "id": "a00e0eae",
   "metadata": {},
   "outputs": [],
   "source": [
    "df[\"year\"].value_counts().sort_index()"
   ]
  },
  {
   "cell_type": "code",
   "execution_count": null,
   "id": "93d6b282",
   "metadata": {},
   "outputs": [],
   "source": [
    "#Removing known outliers\n",
    "df = df[(df.reclat != 0.0) & (df.reclong != 0.0)]\n",
    "df = df.drop(df[(df['year'] <=860)].index)\n",
    "df = df.drop(df[(df['year'] >=2014)].index)"
   ]
  },
  {
   "cell_type": "code",
   "execution_count": null,
   "id": "7f5098eb",
   "metadata": {},
   "outputs": [],
   "source": [
    "df[df.isna().any(axis=1)]"
   ]
  },
  {
   "cell_type": "code",
   "execution_count": null,
   "id": "d6e92e7a",
   "metadata": {},
   "outputs": [],
   "source": [
    "df[df['nametype']=='Valid']"
   ]
  },
  {
   "cell_type": "code",
   "execution_count": null,
   "id": "4b9a0ab2",
   "metadata": {},
   "outputs": [],
   "source": [
    "#Replace all NaNs of valid nametype meteorites with their mean mass\n",
    "valid_df = df[df[\"nametype\"]=='Valid']\n",
    "valid_mass_mean = valid_df[\"mass\"].mean(skipna=True)\n",
    "\n",
    "valid_df[valid_df['mass'].isna()]"
   ]
  },
  {
   "cell_type": "code",
   "execution_count": null,
   "id": "b6fb677b",
   "metadata": {},
   "outputs": [],
   "source": [
    "df.loc[df[\"nametype\"] == \"Valid\", \"mass\"] = df.loc[df[\"nametype\"] == \"Valid\", \"mass\"].fillna(valid_mass_mean)"
   ]
  },
  {
   "cell_type": "code",
   "execution_count": null,
   "id": "7c8a8be4",
   "metadata": {},
   "outputs": [],
   "source": [
    "#updating the valid_df\n",
    "valid_df = df[df['nametype'] == 'Valid']"
   ]
  },
  {
   "cell_type": "code",
   "execution_count": null,
   "id": "4aecad61",
   "metadata": {},
   "outputs": [],
   "source": [
    "#Replace all NaNs of relict nametype meteorites with their mean mass\n",
    "relict_df = df[df[\"nametype\"]=='Relict']\n",
    "relict_mass_mean = relict_df[\"mass\"].mean(skipna=True)\n",
    "\n",
    "relict_df[relict_df['mass'].isna()]"
   ]
  },
  {
   "cell_type": "code",
   "execution_count": null,
   "id": "963b9ff6",
   "metadata": {},
   "outputs": [],
   "source": [
    "df.loc[df[\"nametype\"] == \"Relict\", \"mass\"] = df.loc[df[\"nametype\"] == \"Relict\", \"mass\"].fillna(relict_mass_mean)"
   ]
  },
  {
   "cell_type": "code",
   "execution_count": null,
   "id": "09058c86",
   "metadata": {
    "scrolled": true
   },
   "outputs": [],
   "source": [
    "df[\"nametype\"].value_counts()"
   ]
  },
  {
   "cell_type": "code",
   "execution_count": null,
   "id": "8587c77e",
   "metadata": {},
   "outputs": [],
   "source": [
    "#updating the relict_df\n",
    "relict_df = df[df['nametype'] == 'Relict']"
   ]
  },
  {
   "cell_type": "markdown",
   "id": "01288b9d",
   "metadata": {},
   "source": [
    "From a look at the data, we can see there are multiple meteorites with reclat=58.58333\n",
    "and reclong=13.43333. We can understand that this is probably false data as there is a very small chance that multiple meteorites landed exactly at the same spot. Therefore, they will be dropped from the data frame."
   ]
  },
  {
   "cell_type": "code",
   "execution_count": null,
   "id": "d246c80d",
   "metadata": {},
   "outputs": [],
   "source": [
    "df = df.drop(df[(df[\"reclat\"]==58.58333) & (df[\"reclong\"]==13.43333)].index)"
   ]
  },
  {
   "cell_type": "code",
   "execution_count": null,
   "id": "80996ae4",
   "metadata": {},
   "outputs": [],
   "source": [
    "#Replace all Nans in \"year\" with the mean value\n",
    "mean_year = round(df[\"year\"].mean(skipna=True))\n",
    "df[\"year\"] = df[\"year\"].fillna(mean_year)"
   ]
  },
  {
   "cell_type": "code",
   "execution_count": null,
   "id": "29e9be1d",
   "metadata": {},
   "outputs": [],
   "source": [
    "#Replace all Nans in \"reclat\" with the mean value\n",
    "mean_reclat = df[\"reclat\"].mean(skipna=True)\n",
    "df[\"reclat\"] = df[\"reclat\"].fillna(mean_reclat)\n",
    "\n",
    "#Replace all Nans in \"reclong\" with the mean value\n",
    "mean_reclong = df[\"reclong\"].mean(skipna=True)\n",
    "df[\"reclong\"] = df[\"reclong\"].fillna(mean_reclong)"
   ]
  },
  {
   "cell_type": "code",
   "execution_count": null,
   "id": "e6e19a2e",
   "metadata": {},
   "outputs": [],
   "source": [
    "#Replace all Nans in \"GeoLocation\" with mean values of \"reclat\" and \"reclong\"\n",
    "df[\"GeoLocation\"] = df[\"GeoLocation\"].fillna(\"(\" +mean_reclat.astype(str) + \", \" +mean_reclong.astype(str) + \")\")"
   ]
  },
  {
   "cell_type": "code",
   "execution_count": null,
   "id": "2924d018",
   "metadata": {},
   "outputs": [],
   "source": [
    "df[df[\"fall\"]==\"Fell\"].value_counts()"
   ]
  },
  {
   "cell_type": "code",
   "execution_count": null,
   "id": "6d6da061",
   "metadata": {},
   "outputs": [],
   "source": [
    "df_fell = df.groupby('fall').get_group('Fell')\n",
    "df_fell.info()\n",
    "df_found = df.groupby('fall').get_group('Found')\n",
    "df_found.info()"
   ]
  },
  {
   "cell_type": "code",
   "execution_count": null,
   "id": "6e00b9de",
   "metadata": {},
   "outputs": [],
   "source": [
    "#Creating a df only for meteorites that fell after 1900 \n",
    "df_fell = df[(df[\"fall\"] == \"Fell\") & (df[\"year\"]>=1900)]\n",
    "df_fell.loc[:, \"year\"] = df_fell[\"year\"].astype(int).values\n",
    "\n",
    "fell_each_year = df_fell[\"year\"].value_counts().sort_index()"
   ]
  },
  {
   "cell_type": "code",
   "execution_count": null,
   "id": "411ba248",
   "metadata": {
    "scrolled": false
   },
   "outputs": [],
   "source": [
    "#plotting all meteotite discoveries by year and decade\n",
    "plt.subplot(211)\n",
    "df.year.hist(bins=np.arange(1950,2015,1),figsize=(8,7),color=\"coral\")\n",
    "plt.title('Discoveries per year')\n",
    "plt.xlim(1950,2015)\n",
    "\n",
    "plt.subplot(212)\n",
    "df.year.hist(bins=np.arange(1950,2015,10),figsize=(8,7),color=\"lightgreen\")\n",
    "plt.title('Discoveries per decade')\n",
    "plt.xlim(1950,2015)\n",
    "\n",
    "plt.show()"
   ]
  },
  {
   "cell_type": "code",
   "execution_count": null,
   "id": "dd1003b8",
   "metadata": {},
   "outputs": [],
   "source": [
    "#plotting recorded meteorite falls and meteorite found by year and decade\n",
    "plt.figure(figsize=(8, 8))\n",
    "plt.subplot(221)\n",
    "plt.hist(df_fell['year'], bins=np.arange(1920, 2014, 1), color=\"slateblue\", edgecolor=\"white\")\n",
    "plt.title('Recorded meteorites fell per year 1920-2014')\n",
    "plt.xlim(1920, 2014)\n",
    "\n",
    "plt.subplot(222)\n",
    "plt.hist(df_found['year'], bins=np.arange(1920, 2014, 10),  color=\"mediumaquamarine\",edgecolor=\"white\")\n",
    "plt.title('Recorded meteorites found per year 1920-2014')\n",
    "plt.xlim(1920, 2014)\n",
    "\n",
    "plt.subplot(223)\n",
    "plt.hist(df_fell['year'], bins=np.arange(1920, 2020, 10), color=\"slateblue\",edgecolor=\"white\")\n",
    "plt.title('Recorded meteorites fell per decade 1920-2020')\n",
    "plt.xlim(1920, 2014)\n",
    "\n",
    "plt.subplot(224)\n",
    "plt.hist(df_found['year'], bins=np.arange(1920, 2020, 10), color=\"mediumaquamarine\",edgecolor=\"white\")\n",
    "plt.title('Recorded meteorites found per decade 1920-2020')\n",
    "plt.xlim(1920, 2014)\n",
    "\n",
    "plt.tight_layout()\n",
    "plt.show()"
   ]
  },
  {
   "cell_type": "code",
   "execution_count": null,
   "id": "226f5445",
   "metadata": {
    "scrolled": false
   },
   "outputs": [],
   "source": [
    "#plotting a heatmap of all meteorite findings on the world map\n",
    "fig, ax = plt.subplots(subplot_kw={'projection': ccrs.PlateCarree()}, figsize=(10, 8))\n",
    "ax.coastlines(linewidth=0.6)\n",
    "ax.gridlines(draw_labels=True, linewidth=0.1, color='gray', linestyle='--', alpha=0.7)\n",
    "\n",
    "h = np.histogram2d(df['reclong'], df['reclat'], bins=(np.arange(-180, 182, 2), np.arange(-90, 92, 2)))\n",
    "X, Y = np.meshgrid(h[1][:-1] + 1.0, h[2][:-1] + 1.0)\n",
    "\n",
    "data_interp, x, y = np.log10(h[0].T + 0.1), X, Y\n",
    "\n",
    "im = ax.pcolormesh(x, y, data_interp, cmap='hot_r')\n",
    "\n",
    "cbar = plt.colorbar(im, label='Log-Scaled Frequency', orientation='vertical', pad=0.08, aspect=20, shrink=0.5)\n",
    "\n",
    "ax.set_title('Heatmap of meteorites impacts', fontsize=15)\n",
    "\n",
    "plt.show()"
   ]
  },
  {
   "cell_type": "code",
   "execution_count": null,
   "id": "bf34cf35",
   "metadata": {},
   "outputs": [],
   "source": [
    "plt.figure(figsize=(10, 10))\n",
    "\n",
    "# Plot for df_fell\n",
    "plt.subplot(2, 1, 1, projection=ccrs.PlateCarree())\n",
    "plt.title(\"Heatmap of meteorites fell\")\n",
    "plt.gca().coastlines(linewidth=0.6)\n",
    "plt.gca().gridlines(draw_labels=True, linewidth=0.1, color='gray', linestyle='--', alpha=0.7)\n",
    "h = np.histogram2d(df_fell['reclong'], df_fell['reclat'], bins=(np.arange(-180, 182, 2), np.arange(-90, 92, 2)))\n",
    "X, Y = np.meshgrid(h[1][:-1] + 1.0, h[2][:-1] + 1.0)\n",
    "data_interp, x, y = np.log10(h[0].T + 0.1), X, Y\n",
    "im = plt.pcolormesh(x, y, data_interp, cmap='hot_r')\n",
    "cbar = plt.colorbar(im, label='Log-Scaled Frequency', orientation='vertical', pad=0.08, aspect=20, shrink=0.9)\n",
    "\n",
    "# Plot for df_found\n",
    "plt.subplot(2, 1, 2, projection=ccrs.PlateCarree())\n",
    "plt.title(\"Heatmap of meteorites found\")\n",
    "plt.gca().coastlines(linewidth=0.6)\n",
    "plt.gca().gridlines(draw_labels=True, linewidth=0.1, color='gray', linestyle='--', alpha=0.7)\n",
    "h = np.histogram2d(df_found['reclong'], df_found['reclat'], bins=(np.arange(-180, 182, 2), np.arange(-90, 92, 2)))\n",
    "X, Y = np.meshgrid(h[1][:-1] + 1.0, h[2][:-1] + 1.0)\n",
    "data_interp, x, y = np.log10(h[0].T + 0.1), X, Y\n",
    "im = plt.pcolormesh(x, y, data_interp, cmap='hot_r')\n",
    "cbar = plt.colorbar(im, label='Log-Scaled Frequency', orientation='vertical', pad=0.08, aspect=20, shrink=0.9)\n",
    "\n",
    "plt.show()\n"
   ]
  },
  {
   "cell_type": "markdown",
   "id": "3ca9754e",
   "metadata": {},
   "source": [
    "Contrary to expectations, regions with lower populations, such as the central United States, show a surprisingly high number of reported meteorite falls. This challenges the assumption that higher populations lead to more sightings. It's worth considering that in sparsely populated areas, there might be a higher concentration of recording tools or fewer obstructions for meteorite observation, contributing to this unexpected trend."
   ]
  },
  {
   "cell_type": "code",
   "execution_count": null,
   "id": "2f5135c6",
   "metadata": {},
   "outputs": [],
   "source": [
    "#plotting the heatmap for USA fell and found meteorites\n",
    "df_usa = df[((df[\"reclat\"] >= 25) & (df[\"reclat\"] <= 49) & (df[\"reclong\"] >= -125) & (df[\"reclong\"] <= -67))]\n",
    "\n",
    "fig, ax = plt.subplots(subplot_kw={'projection': ccrs.PlateCarree()}, figsize=(10, 8))\n",
    "ax.coastlines(linewidth=0.6)\n",
    "ax.gridlines(draw_labels=True, linewidth=0.1, color='gray', linestyle='--', alpha=0.7)\n",
    "\n",
    "h = np.histogram2d(df_usa['reclong'], df_usa['reclat'], bins=(np.arange(-180, 182, 2), np.arange(-90, 92, 2)))\n",
    "X, Y = np.meshgrid(h[1][:-1] + 1.0, h[2][:-1] + 1.0)\n",
    "\n",
    "data_interp, x, y = np.log10(h[0].T + 0.1), X, Y\n",
    "\n",
    "im = ax.pcolormesh(x, y, data_interp, cmap='hot_r')\n",
    "\n",
    "cbar = plt.colorbar(im, label='Log-Scaled Frequency', orientation='vertical', pad=0.09, aspect=20, shrink=0.5)\n",
    "\n",
    "ax.set_title('Heatmap of fell & found meteorites in USA', fontsize=15)\n",
    "\n",
    "plt.show()"
   ]
  },
  {
   "cell_type": "markdown",
   "id": "33a8d97e",
   "metadata": {},
   "source": [
    "When we focus on meteorite data from the USA, we notice a lot of meteorite impacts happening all over the country. This suggests that the information in the USA data is quite reliable. As a result, we can use this data as a reference for calculations worldwide."
   ]
  },
  {
   "cell_type": "code",
   "execution_count": null,
   "id": "6ce35f0f",
   "metadata": {},
   "outputs": [],
   "source": [
    "df_usa[\"year\"].value_counts().sort_index()"
   ]
  },
  {
   "cell_type": "code",
   "execution_count": null,
   "id": "4f547c8a",
   "metadata": {},
   "outputs": [],
   "source": [
    "df_fell_usa = df_usa[(df_usa[\"fall\"] == \"Fell\") & (df_usa[\"year\"]>= 1900)]\n",
    "df_fell_usa.loc[:, \"year\"] = df_fell_usa[\"year\"].astype(int).values"
   ]
  },
  {
   "cell_type": "code",
   "execution_count": null,
   "id": "dd675262",
   "metadata": {},
   "outputs": [],
   "source": [
    "df_usa_new = df_usa[df_usa[\"year\"]>= 1900]\n",
    "df_usa_new.loc[:, \"year\"] = df_usa_new[\"year\"].astype(int).values\n",
    "\n",
    "num_each_year_usa = df_usa_new[\"year\"].value_counts().sort_index()\n",
    "plt.figure(figsize=(10, 5)) \n",
    "plt.bar(num_each_year_usa.index, num_each_year_usa.values, width=1, color=\"violet\",edgecolor=\"white\")\n",
    "\n",
    "plt.xlabel('Year')\n",
    "plt.ylabel('Number of Recorded Meteorites in USA', fontsize = 12)\n",
    "plt.title('Number of Recorded Meteorites Each Year in USA')\n",
    "plt.xticks(range(min(num_each_year_usa.index), max(num_each_year_usa.index)+1,10))\n",
    "\n",
    "\n",
    "plt.show()"
   ]
  },
  {
   "cell_type": "markdown",
   "id": "bf8cc8bf",
   "metadata": {},
   "source": [
    "Given the assumption of reliable data in the USA, we can estimate the global count of meteorite falls by comparing the land area of the USA to the total worldwide land area."
   ]
  },
  {
   "cell_type": "code",
   "execution_count": null,
   "id": "cae19a9d",
   "metadata": {},
   "outputs": [],
   "source": [
    "df_fell_usa = df_usa_new[(df_usa[\"fall\"] == \"Fell\")]\n",
    "\n",
    "falls_per_year_usa = df_fell_usa[\"year\"].value_counts().sort_index()\n",
    "\n",
    "# Land areas in million square kilometers \n",
    "usa_area = 9.8  \n",
    "world_area = 148.94 \n",
    "\n",
    "area_ratio = world_area /usa_area \n",
    "\n",
    "estimated_falls_worldwide = falls_per_year_usa * area_ratio\n",
    "estimated_falls_worldwide"
   ]
  },
  {
   "cell_type": "code",
   "execution_count": null,
   "id": "64a8c743",
   "metadata": {},
   "outputs": [],
   "source": [
    "plt.figure(figsize=(9, 6))\n",
    "estimated_falls_worldwide.plot(kind='bar', color='skyblue', width=0.9)\n",
    "\n",
    "plt.xlabel('Year')\n",
    "plt.ylabel('Number of Meteorite Falls Worldwide', fontsize=12)\n",
    "plt.title('Estimated Meteorite Falls Worldwide Each Year')\n",
    "\n",
    "plt.xticks(fontsize=8)  \n",
    "\n",
    "plt.tight_layout()\n",
    "plt.show()"
   ]
  },
  {
   "cell_type": "code",
   "execution_count": null,
   "id": "825fcfa3",
   "metadata": {},
   "outputs": [],
   "source": []
  },
  {
   "cell_type": "code",
   "execution_count": null,
   "id": "b0e0b1b4",
   "metadata": {},
   "outputs": [],
   "source": [
    "labels = df['recclass'].value_counts().nlargest(30).index\n",
    "counts = df['recclass'].value_counts().nlargest(30)\n",
    "\n",
    "plt.figure(figsize=(15,8))\n",
    "plt.pie(counts,\n",
    "        autopct='%0.1f%%',\n",
    "        labels = labels,\n",
    "        pctdistance=0.85,\n",
    "        colors=sns.color_palette('Set2'),\n",
    "        labeldistance=1.05,\n",
    "        radius = 8)\n",
    "plt.rcParams['font.size'] = 8\n",
    "plt.axis('equal')\n",
    "plt.tight_layout()\n",
    "plt.show()"
   ]
  },
  {
   "cell_type": "markdown",
   "id": "a2dd616e",
   "metadata": {},
   "source": [
    "The pie chart shows that the majority of the population belongs to the L, LL, and H class variants. Those letters designate the most common types of ordinary chondrite meteorites, as seen in the following table. Therefore, all subtypes within L, LL, and H classes will be grouped together, while the remaining outliers will be categorized under the \"Others\" class."
   ]
  },
  {
   "cell_type": "markdown",
   "id": "48bd08db",
   "metadata": {},
   "source": [
    "![Alt text](Ordinary_chondrite_meteorites.png)\n"
   ]
  },
  {
   "cell_type": "code",
   "execution_count": null,
   "id": "aa3c3665",
   "metadata": {},
   "outputs": [],
   "source": [
    "df2 = df.copy()\n",
    "LL = set(df2[df2.recclass.str.startswith(\"LL\")]['recclass'])\n",
    "L = set(df2[df2.recclass.str.startswith(\"L\")]['recclass'])\n",
    "L = L-LL\n",
    "H = set(df2[df2.recclass.str.startswith(\"H\")]['recclass'])\n",
    "others = set(df2.recclass.values)\n",
    "others = others - L - LL - H\n",
    "LL = list(LL)\n",
    "L = list(L)\n",
    "H = list(H)\n",
    "others = list(others)"
   ]
  },
  {
   "cell_type": "code",
   "execution_count": null,
   "id": "e041d376",
   "metadata": {},
   "outputs": [],
   "source": [
    "df2.recclass.replace(to_replace=LL, value=\"LL\",inplace=True)\n",
    "df2.recclass.replace(to_replace=L, value=\"L\",inplace=True)\n",
    "df2.recclass.replace(to_replace=H, value=\"H\",inplace=True)\n",
    "df2.recclass.replace(to_replace=others, value=\"others\",inplace=True)"
   ]
  },
  {
   "cell_type": "code",
   "execution_count": null,
   "id": "f52f181b",
   "metadata": {},
   "outputs": [],
   "source": [
    "labels = df2['recclass'].unique()\n",
    "counts = df2['recclass'].value_counts()\n",
    "plt.figure(figsize=(15,8))\n",
    "plt.pie(counts,\n",
    "        autopct='%0.1f%%',\n",
    "        labels = labels,\n",
    "        pctdistance=0.850,\n",
    "        colors=sns.color_palette('Set2'),\n",
    "        labeldistance=1.1,\n",
    "        radius = 8)\n",
    "plt.rcParams['font.size'] = 15\n",
    "plt.axis('equal')\n",
    "plt.tight_layout()\n",
    "plt.show()"
   ]
  },
  {
   "cell_type": "markdown",
   "id": "cae75020",
   "metadata": {},
   "source": [
    "## "
   ]
  },
  {
   "cell_type": "markdown",
   "id": "53a2e926",
   "metadata": {},
   "source": [
    "One of NASA's tool to detect meteorite falls is all sky cameras. These are wide angle cameras that continuously monitor the entire sky. Rain can significantly impede the camera's ability to detect and track meteorites in the sky due to visibility obstruction, image distortion and light scattering. For that reason, we can check if the amount of annual precipitaion is effecting the recorded meteorite falls in the US by using the Pearson correlation."
   ]
  },
  {
   "cell_type": "code",
   "execution_count": null,
   "id": "e86ff408",
   "metadata": {},
   "outputs": [],
   "source": [
    "df_pr = pd.read_csv(\"Annual_precipitation_USA.csv\")\n",
    "df_pr.info()"
   ]
  },
  {
   "cell_type": "code",
   "execution_count": null,
   "id": "314c3460",
   "metadata": {},
   "outputs": [],
   "source": [
    "df_fell_usa = df_usa[(df_usa[\"fall\"] == \"Fell\") & (df_usa[\"year\"]>= 1900)]\n",
    "\n",
    "falls_per_year = df_fell_usa['year'].value_counts().reset_index()\n",
    "falls_per_year.columns = ['year', 'meteorite_falls']\n",
    "\n",
    "merged_data = pd.merge(falls_per_year, df_pr, on='year', how='inner')\n",
    "\n",
    "corr = merged_data['meteorite_falls'].corr(merged_data['volume (inch)'])\n",
    "\n",
    "print(f\"Pearson correlation coefficient: {corr}\")\n",
    "\n",
    "if corr > 0:\n",
    "    if corr > 0.5:\n",
    "        print(\"There is a strong positive correlation.\")\n",
    "    else:\n",
    "        print(\"There is a moderate positive correlation.\")\n",
    "elif corr < 0:\n",
    "    if corr < -0.5:\n",
    "        print(\"There is a strong negative correlation.\")\n",
    "    else:\n",
    "        print(\"There is a moderate negative correlation.\")\n",
    "else:\n",
    "    print(\"There is no significant linear relationship.\")\n"
   ]
  },
  {
   "cell_type": "markdown",
   "id": "fe9c8bda",
   "metadata": {},
   "source": [
    "As expected, we can see there is a negative correlation between the amount of annual precipitation and the amount of recorded meteorite falls. Saying that, the correleation coefficient is closer to 0 rather then to 1, so we can't say the precipitation is effecting the recorded meteorite falls significantly."
   ]
  },
  {
   "cell_type": "code",
   "execution_count": null,
   "id": "641a969a",
   "metadata": {},
   "outputs": [],
   "source": [
    "corr = df.corr()\n",
    "sns.heatmap(corr, annot=True, cmap='coolwarm')\n",
    "plt.title('Correlation Heatmap')\n",
    "plt.show()\n"
   ]
  },
  {
   "cell_type": "code",
   "execution_count": null,
   "id": "597872c8",
   "metadata": {},
   "outputs": [],
   "source": [
    "sns.pairplot(df[['mass', 'year', 'reclat', 'reclong']])\n",
    "plt.title('Pairplot of Meteorite Data')\n",
    "plt.show()\n"
   ]
  },
  {
   "cell_type": "code",
   "execution_count": null,
   "id": "9130368c",
   "metadata": {},
   "outputs": [],
   "source": [
    "sns.countplot(data=df, x='nametype')\n",
    "plt.title('Count of Nametypes')\n",
    "plt.show()\n"
   ]
  },
  {
   "cell_type": "code",
   "execution_count": null,
   "id": "600a1ff0",
   "metadata": {},
   "outputs": [],
   "source": [
    "sns.boxplot(data=df, x='fall', y='mass')\n",
    "plt.title('Mass Distribution by Fall Type')\n",
    "plt.show()\n"
   ]
  },
  {
   "cell_type": "code",
   "execution_count": null,
   "id": "24b67815",
   "metadata": {},
   "outputs": [],
   "source": []
  }
 ],
 "metadata": {
  "kernelspec": {
   "display_name": "Python 3 (ipykernel)",
   "language": "python",
   "name": "python3"
  },
  "language_info": {
   "codemirror_mode": {
    "name": "ipython",
    "version": 3
   },
   "file_extension": ".py",
   "mimetype": "text/x-python",
   "name": "python",
   "nbconvert_exporter": "python",
   "pygments_lexer": "ipython3",
   "version": "3.11.4"
  }
 },
 "nbformat": 4,
 "nbformat_minor": 5
}
